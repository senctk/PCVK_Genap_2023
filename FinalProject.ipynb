{
  "nbformat": 4,
  "nbformat_minor": 0,
  "metadata": {
    "colab": {
      "provenance": [],
      "authorship_tag": "ABX9TyOGdpTR7yCLYgjrx0DjkqAC",
      "include_colab_link": true
    },
    "kernelspec": {
      "name": "python3",
      "display_name": "Python 3"
    },
    "language_info": {
      "name": "python"
    }
  },
  "cells": [
    {
      "cell_type": "markdown",
      "metadata": {
        "id": "view-in-github",
        "colab_type": "text"
      },
      "source": [
        "<a href=\"https://colab.research.google.com/github/senctk/PCVK_Genap_2023/blob/main/FinalProject.ipynb\" target=\"_parent\"><img src=\"https://colab.research.google.com/assets/colab-badge.svg\" alt=\"Open In Colab\"/></a>"
      ]
    },
    {
      "cell_type": "markdown",
      "source": [
        "# **FINAL PROJECT PCVK**"
      ],
      "metadata": {
        "id": "W4m4b5vTqO0Q"
      }
    },
    {
      "cell_type": "markdown",
      "source": [
        "Nama Anggota Kelompok 4 :\n",
        "1. Nesa Itfirul Lail ( 08 / 2041720004 )\n",
        "2. Novianawati ( 09 / 2041720173 )"
      ],
      "metadata": {
        "id": "fmghoi2Zqn2-"
      }
    },
    {
      "cell_type": "code",
      "source": [],
      "metadata": {
        "id": "A_rPKlWqq7g2"
      },
      "execution_count": null,
      "outputs": []
    },
    {
      "cell_type": "code",
      "execution_count": null,
      "metadata": {
        "id": "SH01uuS3qIXT"
      },
      "outputs": [],
      "source": []
    }
  ]
}